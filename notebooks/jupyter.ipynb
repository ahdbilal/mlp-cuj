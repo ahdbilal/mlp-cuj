{
 "cells": [
  {
   "cell_type": "code",
   "execution_count": null,
   "metadata": {},
   "outputs": [],
   "source": [
    "%load_ext autoreload\n",
    "%autoreload 2"
   ]
  },
  {
   "cell_type": "markdown",
   "metadata": {},
   "source": [
    "# MLflow Customizable Pipeline UX Demo\n",
    "\n",
    "This notebook illustrates how a customizable pipeline could be used in a notebook setting. Specifically, we introduced\n",
    "1. Capability to override pipeline configs, step configs, and even step implementations in a live pipeline object.\n",
    "2. Capability to write pipeline configs back to YAML file as source of truth when executed outside of the notebook context."
   ]
  },
  {
   "cell_type": "code",
   "execution_count": null,
   "metadata": {},
   "outputs": [],
   "source": [
    "from pipelines.train import MyTrainingPipeline\n",
    "\n",
    "training = MyTrainingPipeline(profile=\"local\")"
   ]
  },
  {
   "cell_type": "code",
   "execution_count": null,
   "metadata": {},
   "outputs": [],
   "source": [
    "training.clean()"
   ]
  },
  {
   "cell_type": "code",
   "execution_count": null,
   "metadata": {},
   "outputs": [],
   "source": [
    "training.inspect()"
   ]
  },
  {
   "cell_type": "code",
   "execution_count": null,
   "metadata": {},
   "outputs": [],
   "source": [
    "training.run(\"ingest\")"
   ]
  },
  {
   "cell_type": "code",
   "execution_count": null,
   "metadata": {},
   "outputs": [],
   "source": [
    "training.run(\"evaluate\")"
   ]
  },
  {
   "cell_type": "code",
   "execution_count": null,
   "metadata": {},
   "outputs": [],
   "source": [
    "# Creates an override for register step config.\n",
    "register_config = p.get_step_config(\"register\")\n",
    "register_config[\"model_name\"] = \"taxi_fare_challenger\"\n",
    "# Runs the register step with overriden step config.\n",
    "training.run(\"register\", step_config=register_config)"
   ]
  },
  {
   "cell_type": "code",
   "execution_count": null,
   "metadata": {},
   "outputs": [],
   "source": [
    "# Overrides the pipeline config.\n",
    "training.pipeline_config[\"metrics\"][\"primary\"] = \"absolute_error\"\n",
    "# Save the overriden step and pipeline config to train.yaml\n",
    "training.save_pipeline_config()"
   ]
  },
  {
   "cell_type": "code",
   "execution_count": null,
   "metadata": {},
   "outputs": [],
   "source": [
    "training.inspect(\"train\")"
   ]
  },
  {
   "cell_type": "code",
   "execution_count": null,
   "metadata": {},
   "outputs": [],
   "source": [
    "test_data = training.get_artifact(\"test_data\")\n",
    "test_data.describe()"
   ]
  },
  {
   "cell_type": "code",
   "execution_count": null,
   "metadata": {},
   "outputs": [],
   "source": [
    "trained_model = training.get_artifact(\"model\")\n",
    "print(trained_model)"
   ]
  },
  {
   "cell_type": "code",
   "execution_count": null,
   "metadata": {},
   "outputs": [],
   "source": [
    "# Override a step implementation in a cell.\n",
    "from mlflow.pipelines.steps import IngestStep\n",
    "\n",
    "\n",
    "class MyNewIngestStep(IngestStep):\n",
    "    def load_file_as_dataframe(file_path: str, file_format: str):\n",
    "        pass\n",
    "\n",
    "\n",
    "training.steps[\"ingest\"] = MyNewIngestStep\n",
    "training.run()"
   ]
  },
  {
   "cell_type": "code",
   "execution_count": null,
   "metadata": {},
   "outputs": [],
   "source": [
    "# Create a second pipeline for scoring.\n",
    "from pipelines.scoring import MyScoringPipeline\n",
    "\n",
    "scoring = MyScoringPipeline(profile=\"local\")\n",
    "scoring.run()"
   ]
  }
 ],
 "metadata": {
  "interpreter": {
   "hash": "c462df992c775797bd5d542b280333286dbcc2ffa1f781b674f30e76741ca83d"
  },
  "kernelspec": {
   "display_name": "Python 3 (ipykernel)",
   "language": "python",
   "name": "python3"
  },
  "language_info": {
   "codemirror_mode": {
    "name": "ipython",
    "version": 3
   },
   "file_extension": ".py",
   "mimetype": "text/x-python",
   "name": "python",
   "nbconvert_exporter": "python",
   "pygments_lexer": "ipython3",
   "version": "3.8.13"
  }
 },
 "nbformat": 4,
 "nbformat_minor": 4
}
